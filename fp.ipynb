{
 "cells": [
  {
   "cell_type": "markdown",
   "id": "b8c5a523",
   "metadata": {},
   "source": [
    "# Comparison of Relative Finding Methods"
   ]
  },
  {
   "cell_type": "markdown",
   "id": "7b8d0bf3",
   "metadata": {},
   "source": [
    "### Imports"
   ]
  },
  {
   "cell_type": "code",
   "execution_count": 1,
   "id": "17d8f944",
   "metadata": {},
   "outputs": [],
   "source": [
    "import pandas as pd\n",
    "import vcf\n",
    "import os\n",
    "import subprocess\n",
    "import numpy as np\n",
    "import matplotlib.pyplot as plt"
   ]
  },
  {
   "cell_type": "markdown",
   "id": "6e3b9a8f",
   "metadata": {},
   "source": [
    "# Part 1 - Subpopulations\n",
    "\n",
    "### Sample List Generation\n",
    "Here, I generate sample lists by utilizing `igsr_samples.tsv` to gather a list of samples for each subpopulation and storing them in their own respective .txt file in `/samples`. Of all possible subpopulations, `MKK`, `GWF`, `GWW`, and `GWJ` were excluded due to their sample lists being empty when generated."
   ]
  },
  {
   "cell_type": "code",
   "execution_count": 2,
   "id": "a861b6f4",
   "metadata": {},
   "outputs": [],
   "source": [
    "chr_num = 19\n",
    "pruned = True\n",
    "if pruned:\n",
    "    vcf_file = \"../public/1000Genomes/1000G_chr\" + str(chr_num) + \"_pruned.vcf.gz\"\n",
    "else:\n",
    "    vcf_file = \"../public/1000Genomes/ALL.chr\" + str(chr_num) + \".phase3_shapeit2_mvncall_integrated_v5a.20130502.genotypes.vcf.gz\"\n",
    "    \n",
    "all_samples = vcf.Reader(filename=vcf_file).samples"
   ]
  },
  {
   "cell_type": "code",
   "execution_count": 3,
   "id": "e204857b",
   "metadata": {},
   "outputs": [
    {
     "name": "stdout",
     "output_type": "stream",
     "text": [
      "['BEB', 'CLM', 'IBS', 'GWD', 'KHV', 'CHB', 'GWF', 'PUR', 'LWK', 'MSL', 'JPT', 'GWJ', 'MKK', 'FIN', 'TSI', 'ITU', 'GBR', 'ASW', 'STU', 'CEU', 'YRI', 'CHS', 'MXL', 'ACB', 'ESN', 'PEL', 'GWW', 'GIH', 'PJL', 'CDX']\n",
      "samples_mkk.txt\n",
      "samples_gwf.txt\n",
      "samples_gww.txt\n",
      "samples_gwj.txt\n",
      "samples_singular_mkk.txt\n",
      "samples_singular_gwf.txt\n",
      "samples_singular_gww.txt\n",
      "samples_singular_gwj.txt\n"
     ]
    }
   ],
   "source": [
    "df = pd.read_csv(\"../public/1000Genomes/igsr_samples.tsv\", sep='\\t')\n",
    "pop_codes = list(set(df['Population code'].tolist()))\n",
    "pop_codes = [x for x in pop_codes if len(str(x)) == 3 and not pd.isna(x)]\n",
    "print(pop_codes)\n",
    "\n",
    "if \"samples\" not in os.listdir():\n",
    "    os.mkdir(\"samples\")\n",
    "if \"samples_singular\" not in os.listdir():\n",
    "    os.mkdir(\"samples_singular\")\n",
    "\n",
    "for pop in pop_codes:\n",
    "    subset = df[df['Population code'] == pop]\n",
    "    subset = subset[subset['Sample name'].isin(all_samples)]\n",
    "    subset['copy'] = subset['Sample name']\n",
    "    subset['Sample name'].to_csv('samples_singular/samples_singular_' + pop.lower() + '.txt', sep=' ', header=False, index=False)\n",
    "    subset[['Sample name', 'copy']].to_csv('samples/samples_' + pop.lower() + '.txt', sep=' ', header=False, index=False)\n",
    "\n",
    "samples_final = []\n",
    "for file in os.listdir(\"samples\"):\n",
    "    if os.path.getsize(\"samples/\" + file) == 0:\n",
    "        print(file)\n",
    "        os.remove(\"samples/\" + file)\n",
    "    elif \"ipynb\" not in file:\n",
    "        samples_final.append(file[-7:-4])\n",
    "        \n",
    "for file in os.listdir(\"samples_singular\"):\n",
    "    if os.path.getsize(\"samples_singular/\" + file) == 0:\n",
    "        print(file)\n",
    "        os.remove(\"samples_singular/\" + file)"
   ]
  },
  {
   "cell_type": "markdown",
   "id": "f002cd81",
   "metadata": {},
   "source": [
    "### Defining Measurements of Time and Memory Usage\n",
    "This function is written to take in a command and run it twice such that both the runtime and the peak memory usage can be measured. These are recorded and then returned by the function. There are three extra optional parameters. Setting `run_time` or `run_mem` to `False` will prevent the function from running that respective measurement. Setting the parameter `printout` to `True` will return the measurements to the user in the form of print statements."
   ]
  },
  {
   "cell_type": "code",
   "execution_count": 4,
   "id": "08e7e4f0",
   "metadata": {},
   "outputs": [],
   "source": [
    "def run_time_mem(command, run_time=True, run_mem=True, printout=False):\n",
    "    time = 0\n",
    "    mem = 0\n",
    "    \n",
    "    if(run_time):\n",
    "        proc = subprocess.run(\"bash -c 'time \" + command + \"'\", shell=True, capture_output=True, text=True)\n",
    "        time_output = proc.stderr.split()\n",
    "        #time = float(time_output[-1][2:-1]) + float(time_output[-3][2:-1])\n",
    "        user = (time_output[-1]).split(\"m\")\n",
    "        sys = (time_output[-3]).split(\"m\")\n",
    "        user_time = (int(user[0]) * 60) + float(user[1][:-1])\n",
    "        sys_time = (int(sys[0]) * 60) + float(sys[1][:-1])\n",
    "        time = user_time + sys_time\n",
    "        if(printout):\n",
    "            print(\"time: \" + str(time))\n",
    "\n",
    "    if(run_mem):\n",
    "        proc = subprocess.run(\"bash -c './memusg \" + command + \"'\", shell=True, capture_output=True, text=True)\n",
    "        mem_output = proc.stderr.split()\n",
    "        mem = mem_output[-2]\n",
    "        if(printout):\n",
    "            print(\"mem : \" + str(mem))\n",
    "    \n",
    "    return [round(time, 3), int(mem)]"
   ]
  },
  {
   "cell_type": "markdown",
   "id": "dd2ee2aa",
   "metadata": {},
   "source": [
    "### PLINK - Subpopulation Measurements"
   ]
  },
  {
   "cell_type": "code",
   "execution_count": 5,
   "id": "69750a17",
   "metadata": {},
   "outputs": [
    {
     "name": "stdout",
     "output_type": "stream",
     "text": [
      "PLINK v1.90b6.9 64-bit (4 Mar 2019)            www.cog-genomics.org/plink/1.9/\n",
      "(C) 2005-2019 Shaun Purcell, Christopher Chang   GNU General Public License v3\n",
      "Logging to data/chr_plink.log.\n",
      "Options in effect:\n",
      "  --make-bed\n",
      "  --out data/chr_plink\n",
      "  --vcf ../public/1000Genomes/1000G_chr19_pruned.vcf.gz\n",
      "\n",
      "515699 MB RAM detected; reserving 257849 MB for main workspace.\n",
      "--vcf: data/chr_plink-temporary.bed + data/chr_plink-temporary.bim +\n",
      "data/chr_plink-temporary.fam written.\n",
      "17784 variants loaded from .bim file.\n",
      "2504 people (0 males, 0 females, 2504 ambiguous) loaded from .fam.\n",
      "Ambiguous sex IDs written to data/chr_plink.nosex .\n",
      "Using 1 thread (no multithreaded calculations invoked).\n",
      "Before main variant filters, 2504 founders and 0 nonfounders present.\n",
      "Calculating allele frequencies... 10111213141516171819202122232425262728293031323334353637383940414243444546474849505152535455565758596061626364656667686970717273747576777879808182838485868788899091929394959697989 done.\n",
      "Total genotyping rate is 0.999899.\n",
      "17784 variants and 2504 people pass filters and QC.\n",
      "Note: No phenotypes present.\n",
      "--make-bed to data/chr_plink.bed + data/chr_plink.bim + data/chr_plink.fam ...\n",
      "101112131415161718192021222324252627282930313233343536373839404142434445464748495051525354555657585960616263646566676869707172737475767778798081828384858687888990919293949596979899done.\n"
     ]
    }
   ],
   "source": [
    "if \"data\" not in os.listdir():\n",
    "    os.mkdir(\"data\")\n",
    "\n",
    "if pruned:\n",
    "    os.system(\"plink --vcf ../public/1000Genomes/1000G_chr\" + str(chr_num) + \"_pruned.vcf.gz --make-bed --out data/chr_plink\")\n",
    "else:\n",
    "    os.system(\"plink --vcf ../public/1000Genomes/ALL.chr\" + str(chr_num) + \".phase3_shapeit2_mvncall_integrated_v5a.20130502.genotypes.vcf.gz --make-bed --out data/chr_plink\")"
   ]
  },
  {
   "cell_type": "code",
   "execution_count": 6,
   "id": "63585772",
   "metadata": {
    "scrolled": true
   },
   "outputs": [
    {
     "name": "stdout",
     "output_type": "stream",
     "text": [
      "khv\n",
      "time: 0.041999999999999996\n",
      "mem : 264105564\n",
      "gbr\n",
      "time: 0.042\n",
      "mem : 264105564\n",
      "acb\n",
      "time: 0.046\n",
      "mem : 264105564\n",
      "ibs\n",
      "time: 0.051000000000000004\n",
      "mem : 264105564\n",
      "chs\n",
      "time: 0.039\n",
      "mem : 264105564\n",
      "ceu\n",
      "time: 0.046\n",
      "mem : 264105564\n",
      "asw\n",
      "time: 0.027000000000000003\n",
      "mem : 264105564\n",
      "msl\n",
      "time: 0.059000000000000004\n",
      "mem : 264105564\n",
      "pel\n",
      "time: 0.06\n",
      "mem : 264104536\n",
      "lwk\n",
      "time: 0.066\n",
      "mem : 67156\n",
      "esn\n",
      "time: 0.057\n",
      "mem : 264105564\n",
      "clm\n",
      "time: 0.057\n",
      "mem : 264105564\n",
      "pur\n",
      "time: 0.047\n",
      "mem : 264105564\n",
      "stu\n",
      "time: 0.082\n",
      "mem : 264105564\n",
      "yri\n",
      "time: 0.057999999999999996\n",
      "mem : 264105564\n",
      "fin\n",
      "time: 0.062\n",
      "mem : 264105564\n",
      "beb\n",
      "time: 0.057999999999999996\n",
      "mem : 264105564\n",
      "cdx\n",
      "time: 0.063\n",
      "mem : 264105564\n",
      "chb\n",
      "time: 0.066\n",
      "mem : 264105564\n",
      "gih\n",
      "time: 0.053000000000000005\n",
      "mem : 264105564\n",
      "itu\n",
      "time: 0.064\n",
      "mem : 264105564\n",
      "gwd\n",
      "time: 0.067\n",
      "mem : 264105564\n",
      "tsi\n",
      "time: 0.068\n",
      "mem : 264105564\n",
      "mxl\n",
      "time: 0.049\n",
      "mem : 264105564\n",
      "jpt\n",
      "time: 0.045\n",
      "mem : 264105564\n",
      "pjl\n",
      "time: 0.048\n",
      "mem : 264105564\n",
      "[[0.042, 264105564], [0.042, 264105564], [0.046, 264105564], [0.051, 264105564], [0.039, 264105564], [0.046, 264105564], [0.027, 264105564], [0.059, 264105564], [0.06, 264104536], [0.066, 67156], [0.057, 264105564], [0.057, 264105564], [0.047, 264105564], [0.082, 264105564], [0.058, 264105564], [0.062, 264105564], [0.058, 264105564], [0.063, 264105564], [0.066, 264105564], [0.053, 264105564], [0.064, 264105564], [0.067, 264105564], [0.068, 264105564], [0.049, 264105564], [0.045, 264105564], [0.048, 264105564]]\n"
     ]
    }
   ],
   "source": [
    "if \"plink\" not in os.listdir():\n",
    "    os.mkdir(\"plink\")\n",
    "\n",
    "plink_vals = []\n",
    "for file in os.listdir(\"samples\"):\n",
    "    if(file[-4:] == \".txt\"):\n",
    "        sample = file[-7:-4]\n",
    "        print(sample)\n",
    "        command = \"plink --bfile data/chr_plink --keep samples/\" + file + \" --genome --out plink/\" + sample + \".ibd\"\n",
    "        plink_vals.append(run_time_mem(command, printout=True))\n",
    "\n",
    "print(plink_vals)"
   ]
  },
  {
   "cell_type": "markdown",
   "id": "17e76236",
   "metadata": {},
   "source": [
    "### GERMLINE - Subpopulation Measurements"
   ]
  },
  {
   "cell_type": "code",
   "execution_count": 7,
   "id": "ef8da753",
   "metadata": {
    "scrolled": false
   },
   "outputs": [
    {
     "name": "stdout",
     "output_type": "stream",
     "text": [
      "ceu\n",
      "chs\n",
      "ibs\n",
      "gbr\n",
      "acb\n",
      "khv\n",
      "lwk\n",
      "pel\n",
      "esn\n",
      "msl\n",
      "asw\n",
      "fin\n",
      "cdx\n",
      "beb\n",
      "stu\n",
      "pur\n",
      "yri\n",
      "clm\n",
      "pjl\n",
      "jpt\n",
      "gwd\n",
      "tsi\n",
      "mxl\n",
      "itu\n",
      "gih\n",
      "chb\n",
      "[[0.244, 38364], [0.27, 38628], [0.305, 39156], [0.236, 38892], [0.235, 38760], [0.255, 38364], [0.272, 38496], [0.271, 38628], [0.271, 38628], [0.238, 38100], [0.177, 37176], [0.256, 38496], [0.267, 38892], [0.22, 37572], [0.266, 38628], [0.277, 38496], [0.269, 38760], [0.238, 38760], [0.249, 38892], [0.313, 38760], [0.28, 39156], [0.275, 38628], [0.178, 37308], [0.259, 39156], [0.302, 38496], [0.256, 38628]]\n"
     ]
    }
   ],
   "source": [
    "if pruned:\n",
    "    os.system(\"bcftools view ../public/1000Genomes/1000G_chr\" + str(chr_num) + \"_pruned.vcf.gz -O b -o data/chr_plink.bcf\")\n",
    "else:\n",
    "    os.system(\"bcftools view ../public/1000Genomes/ALL.chr\" + str(chr_num) + \".phase3_shapeit2_mvncall_integrated_v5a.20130502.genotypes.vcf.gz -O b -o chr_plink.bcf\")\n",
    "\n",
    "if \"germline\" not in os.listdir():\n",
    "    os.mkdir(\"germline\")\n",
    "    \n",
    "germline_vals = []\n",
    "for file in os.listdir(\"samples_singular\"):\n",
    "    if(file[-4:] == \".txt\"):\n",
    "        sample = file[-7:-4]\n",
    "        print(sample)\n",
    "        os.system(\"bcftools view -S samples_singular/\" + file + \" data/chr_plink.bcf -O b -o data/subset_\" + sample + \".bcf\")\n",
    "        os.system(\"vcftools --bcf data/subset_\" + sample + \".bcf --plink --out data/out_sub_\" + sample + \" >/dev/null 2>&1\")\n",
    "        command = \"./germline-1-5-3/bin/germline -input data/out_sub_\" + sample + \".ped data/out_sub_\" + sample + \".map -output germline/\" + sample + \".germ\"\n",
    "        germline_vals.append(run_time_mem(command))\n",
    "\n",
    "print(germline_vals)"
   ]
  },
  {
   "cell_type": "markdown",
   "id": "743af1d9",
   "metadata": {},
   "source": [
    "### IBDseq - Subpopulation Measurements"
   ]
  },
  {
   "cell_type": "code",
   "execution_count": 8,
   "id": "dedfec5f",
   "metadata": {
    "scrolled": true
   },
   "outputs": [
    {
     "name": "stdout",
     "output_type": "stream",
     "text": [
      "khv\n",
      "gbr\n",
      "acb\n",
      "ibs\n",
      "chs\n",
      "ceu\n",
      "asw\n",
      "msl\n",
      "pel\n",
      "lwk\n",
      "esn\n",
      "clm\n",
      "pur\n",
      "stu\n",
      "yri\n",
      "fin\n",
      "beb\n",
      "cdx\n",
      "chb\n",
      "gih\n",
      "itu\n",
      "gwd\n",
      "tsi\n",
      "mxl\n",
      "jpt\n",
      "pjl\n",
      "[[9.968, 3900968], [8.31, 3900968], [11.242, 3900968], [11.469, 3900968], [10.236, 3900968], [10.39, 3900968], [5.709, 3900968], [9.21, 3900968], [7.712, 3900968], [11.028, 3900968], [11.195, 3900968], [9.911, 3900968], [11.004, 3900968], [10.466, 3900968], [13.169, 3900968], [10.092, 3900968], [8.078, 3900968], [8.333, 3900968], [10.172, 3900968], [10.381, 3900968], [10.989, 3900968], [13.708, 3900968], [11.678, 3900968], [5.073, 3900968], [9.835, 3900968], [9.508, 3900968]]\n"
     ]
    }
   ],
   "source": [
    "if \"ibdseq\" not in os.listdir():\n",
    "    os.mkdir(\"ibdseq\")\n",
    "\n",
    "ibdseq_vals = []\n",
    "for file in os.listdir(\"samples\"):\n",
    "    if(file[-4:] == \".txt\"):\n",
    "        sample = file[-7:-4]\n",
    "        print(sample)\n",
    "        os.system(\"bcftools view data/subset_\" + sample + \".bcf -O v -o data/subset_\" + sample + \".vcf\")\n",
    "        \n",
    "        #-Xmx192706m\n",
    "        command = \"java -jar ibdseq.r1206.jar gt=data/subset_\" + sample + \".vcf out=ibdseq/\" + sample + \".ibdseq\"\n",
    "        ibdseq_vals.append(run_time_mem(command))\n",
    "\n",
    "print(ibdseq_vals)"
   ]
  },
  {
   "cell_type": "markdown",
   "id": "fbe04130",
   "metadata": {},
   "source": [
    "### BEAGLE's fastIBD - Subpopulation Measurements"
   ]
  },
  {
   "cell_type": "code",
   "execution_count": 13,
   "id": "c7d45143",
   "metadata": {
    "scrolled": false
   },
   "outputs": [
    {
     "name": "stdout",
     "output_type": "stream",
     "text": [
      "khv\n",
      "gbr\n",
      "acb\n",
      "ibs\n",
      "chs\n",
      "ceu\n",
      "asw\n",
      "msl\n",
      "pel\n",
      "lwk\n",
      "esn\n",
      "clm\n",
      "pur\n",
      "stu\n",
      "yri\n",
      "fin\n",
      "beb\n",
      "cdx\n",
      "chb\n",
      "gih\n",
      "itu\n",
      "gwd\n",
      "tsi\n",
      "mxl\n",
      "jpt\n",
      "pjl\n",
      "[[57.197, 3768464], [53.322, 3768240], [2.845, 3768096], [2.296, 3768096], [58.451, 3768464], [60.727, 3768464], [32.218, 3768096], [55.38, 3768096], [44.248, 3768096], [53.265, 3768096], [4.65, 3768096], [60.855, 3768096], [52.151, 3768096], [46.987, 3768096], [11.468, 3768096], [49.37, 3768464], [41.905, 3768096], [54.45, 3768096], [60.504, 3769892], [4.308, 3768096], [50.962, 3768096], [55.968, 3769892], [48.228, 3768096], [42.769, 3768096], [58.836, 3768096], [58.168, 3768096]]\n"
     ]
    }
   ],
   "source": [
    "if \"fastibd\" not in os.listdir():\n",
    "    os.mkdir(\"fastibd\")\n",
    "\n",
    "fastibd_vals = []\n",
    "for file in os.listdir(\"samples\"):\n",
    "    if(file[-4:] == \".txt\"):\n",
    "        sample = file[-7:-4]\n",
    "        print(sample)\n",
    "        os.system(\"cat data/subset_\" + sample + \".vcf | java -jar vcf2beagle.jar ? data/subset_\" + sample)\n",
    "        \n",
    "        command = \"java -jar beagle.jar unphased=data/subset_\" + sample + \".bgl.gz markers=data/subset_\" + sample + \".markers fastibd=true out=fastibd/\" + sample + \".fastibd missing=?\"\n",
    "        fastibd_vals.append(run_time_mem(command))\n",
    "\n",
    "print(fastibd_vals)"
   ]
  },
  {
   "cell_type": "markdown",
   "id": "8b107c34",
   "metadata": {},
   "source": [
    "### Subpopulation Visualizations"
   ]
  },
  {
   "cell_type": "code",
   "execution_count": 22,
   "id": "a432edd9",
   "metadata": {},
   "outputs": [],
   "source": [
    "persistent_p1 = [plink_vals, germline_vals, ibdseq_vals, fastibd_vals]\n",
    "\n",
    "with open('persistent_p1.txt', 'w') as file:\n",
    "    file.write(str(persistent_p1))"
   ]
  },
  {
   "cell_type": "code",
   "execution_count": 8,
   "id": "b1f99ce0",
   "metadata": {},
   "outputs": [],
   "source": [
    "with open('persistent_p1.txt', 'r') as file:\n",
    "    persistent_p1 = eval(file.read())\n",
    "    \n",
    "plink_vals = persistent_p1[0]\n",
    "germline_vals = persistent_p1[1]\n",
    "ibdseq_vals = persistent_p1[2]\n",
    "fastibd_vals = persistent_p1[3]"
   ]
  },
  {
   "cell_type": "code",
   "execution_count": 9,
   "id": "f9ba1ab5",
   "metadata": {},
   "outputs": [
    {
     "data": {
      "text/plain": [
       "<matplotlib.legend.Legend at 0x7fd0b9531700>"
      ]
     },
     "execution_count": 9,
     "metadata": {},
     "output_type": "execute_result"
    },
    {
     "data": {
      "image/png": "[encoded data removed]",
      "text/plain": [
       "<Figure size 720x432 with 1 Axes>"
      ]
     },
     "metadata": {
      "needs_background": "light"
     },
     "output_type": "display_data"
    }
   ],
   "source": [
    "x = np.arange(len(persistent_p1[0]))\n",
    "y1 = [item[0] for item in plink_vals]\n",
    "y2 = [item[0] for item in germline_vals]\n",
    "y3 = [item[0] for item in ibdseq_vals]\n",
    "y4 = [item[0] for item in fastibd_vals]\n",
    "\n",
    "plt.figure(figsize=(10, 6))\n",
    "bar_width = 0.15\n",
    "\n",
    "plt.bar(x, y1, width=bar_width, label='PLINK', color='darkblue')\n",
    "plt.bar(x + bar_width, y2, width=bar_width, label='GERMLINE', color='blue')\n",
    "plt.bar(x + bar_width * 2, y3, width=bar_width, label='IBDseq', color='lightblue')\n",
    "plt.bar(x + bar_width * 3, y4, width=bar_width, label='fastIBD', color='black')\n",
    "\n",
    "plt.xlabel('Sample')\n",
    "plt.ylabel('Time (seconds)')\n",
    "plt.title('Runtime on Subpopulation: PLINK vs. GERMLINE vs. IBDseq vs. BEAGLE\\'s fastIBD')\n",
    "labels = samples_final\n",
    "plt.xticks(x + bar_width * 2, labels)\n",
    "plt.yscale('log')\n",
    "plt.legend(title = \"Tool\", loc='center left', bbox_to_anchor=(1, 0.5))"
   ]
  },
  {
   "cell_type": "markdown",
   "id": "cb420bd9",
   "metadata": {},
   "source": [
    "# Part 2 - Stress Testing / Time Complexity\n",
    "\n",
    "### Subset File Generation\n",
    "Here, I generate the largest possible set of samples and from it, I create many subsets (in increments of 100) and store them in .txt files in `/sizes`."
   ]
  },
  {
   "cell_type": "code",
   "execution_count": 5,
   "id": "5c4fb477",
   "metadata": {},
   "outputs": [],
   "source": [
    "if \"sizes\" not in os.listdir():\n",
    "    os.mkdir(\"sizes\")\n",
    "if \"total\" not in os.listdir(\"sizes\"):\n",
    "    os.mkdir(\"sizes/total\")\n",
    "if \"total_singular\" not in os.listdir(\"sizes\"):\n",
    "    os.mkdir(\"sizes/total_singular\")\n",
    "    \n",
    "with open(\"sizes/total/total.txt\", 'w') as out:\n",
    "    for file in os.listdir(\"samples\"):\n",
    "        if(file[-4:] == \".txt\"):\n",
    "            with open(\"samples/\" + file, 'r') as file:\n",
    "                out.writelines(file.readlines())\n",
    "\n",
    "with open(\"sizes/total_singular/total_singular.txt\", 'w') as out:                \n",
    "    for file in os.listdir(\"samples_singular\"):\n",
    "        if(file[-4:] == \".txt\"):\n",
    "            with open(\"samples_singular/\" + file, 'r') as file:\n",
    "                out.writelines(file.readlines())"
   ]
  },
  {
   "cell_type": "code",
   "execution_count": 6,
   "id": "d6037ebb",
   "metadata": {},
   "outputs": [],
   "source": [
    "with open(\"sizes/total/total.txt\", 'r') as file:\n",
    "    all_lines = file.readlines()\n",
    "    num_lines = len(all_lines)\n",
    "\n",
    "sizes = range(0, num_lines, 100)\n",
    "sizes = sizes[1:]\n",
    "for size in sizes:\n",
    "    with open(\"sizes/total/total_\" + str(size) + \".txt\", 'w') as file:\n",
    "        file.writelines(all_lines[:size])\n",
    "        \n",
    "        \n",
    "with open(\"sizes/total_singular/total_singular.txt\", 'r') as file:\n",
    "    all_lines = file.readlines()\n",
    "    num_lines = len(all_lines)\n",
    "\n",
    "sizes = range(0, num_lines, 100)\n",
    "sizes = sizes[1:]\n",
    "for size in sizes:\n",
    "    with open(\"sizes/total_singular/total_singular_\" + str(size) + \".txt\", 'w') as file:\n",
    "        file.writelines(all_lines[:size])"
   ]
  },
  {
   "cell_type": "code",
   "execution_count": 7,
   "id": "f510edd8",
   "metadata": {},
   "outputs": [],
   "source": [
    "if \"data\" not in os.listdir(\"sizes\"):\n",
    "    os.mkdir(\"sizes/data\")"
   ]
  },
  {
   "cell_type": "markdown",
   "id": "994cc832",
   "metadata": {},
   "source": [
    "### PLINK - Stress Testing"
   ]
  },
  {
   "cell_type": "code",
   "execution_count": 5,
   "id": "9800700b",
   "metadata": {},
   "outputs": [
    {
     "name": "stdout",
     "output_type": "stream",
     "text": [
      "total_2100\n",
      "total_1600\n",
      "total_300\n",
      "total_2000\n",
      "total_200\n",
      "total_1700\n",
      "total_2300\n",
      "total_1400\n",
      "total_100\n",
      "total_1800\n",
      "total_2200\n",
      "total_1500\n",
      "total_1900\n",
      "total_2500\n",
      "total_700\n",
      "total_1200\n",
      "total_2400\n",
      "total_1300\n",
      "total_600\n",
      "total_900\n",
      "total_500\n",
      "total_1000\n",
      "total_800\n",
      "total_1100\n",
      "total_400\n"
     ]
    }
   ],
   "source": [
    "if \"ibd\" not in os.listdir(\"sizes\"):\n",
    "    os.mkdir(\"sizes/ibd\")\n",
    "\n",
    "plink_sizes = []\n",
    "for file in os.listdir(\"sizes/total\"):\n",
    "    if \"total_\" in file:\n",
    "        curr = file[:-4]\n",
    "        print(curr)\n",
    "        command = \"plink --bfile data/chr_plink --keep sizes/total/\" + file + \" --genome --out sizes/ibd/\" + curr + \".ibd\"\n",
    "        times = run_time_mem(command)\n",
    "        \n",
    "        plink_sizes.append([int(curr[6:]),times])"
   ]
  },
  {
   "cell_type": "markdown",
   "id": "d6e5a13d",
   "metadata": {},
   "source": [
    "### PLINK - Individual Analysis"
   ]
  },
  {
   "cell_type": "code",
   "execution_count": 25,
   "id": "14065d97",
   "metadata": {
    "scrolled": false
   },
   "outputs": [
    {
     "data": {
      "image/png": "[encoded data removed]",
      "text/plain": [
       "<Figure size 720x432 with 1 Axes>"
      ]
     },
     "metadata": {
      "needs_background": "light"
     },
     "output_type": "display_data"
    }
   ],
   "source": [
    "plink_sizes_sorted = sorted(plink_sizes, key = lambda x : x[0])\n",
    "x = [item[0] for item in plink_sizes_sorted]\n",
    "y = [item[1][0] for item in plink_sizes_sorted]\n",
    "\n",
    "plt.figure(figsize=(10, 6))\n",
    "plt.plot(x, y, marker = 'o')\n",
    "\n",
    "plt.xlabel(\"Number of Samples\")\n",
    "plt.ylabel(\"Time (seconds)\")\n",
    "plt.title(\"Runtime of PLINK Command for IBD\")\n",
    "plt.xscale('log')\n",
    "plt.yscale('log')"
   ]
  },
  {
   "cell_type": "markdown",
   "id": "004b93f8",
   "metadata": {},
   "source": [
    "### GERMLINE - Stress Testing"
   ]
  },
  {
   "cell_type": "code",
   "execution_count": 9,
   "id": "ff73c95e",
   "metadata": {},
   "outputs": [
    {
     "name": "stdout",
     "output_type": "stream",
     "text": [
      "total_singular_1200\n",
      "total_singular_700\n",
      "total_singular_2500\n",
      "total_singular_600\n",
      "total_singular_1300\n",
      "total_singular_2400\n",
      "total_singular_900\n",
      "total_singular_500\n",
      "total_singular_1000\n",
      "total_singular_800\n",
      "total_singular_1100\n",
      "total_singular_400\n",
      "total_singular_300\n",
      "total_singular_1600\n",
      "total_singular_2100\n",
      "total_singular_1700\n",
      "total_singular_200\n",
      "total_singular_2000\n",
      "total_singular_1400\n",
      "total_singular_100\n",
      "total_singular_1800\n",
      "total_singular_2300\n",
      "total_singular_1500\n",
      "total_singular_1900\n",
      "total_singular_2200\n"
     ]
    }
   ],
   "source": [
    "if \"germline\" not in os.listdir(\"sizes\"):\n",
    "    os.mkdir(\"sizes/germline\")\n",
    "\n",
    "germline_sizes = []\n",
    "for file in os.listdir(\"sizes/total_singular\"):\n",
    "    if \"total_singular_\" in file:\n",
    "        curr = file[:-4]\n",
    "        print(curr)\n",
    "        os.system(\"bcftools view -S sizes/total_singular/\" + file + \" data/chr_plink.bcf -O b -o sizes/data/\" + curr + \".bcf\")\n",
    "        os.system(\"vcftools --bcf sizes/data/\" + curr + \".bcf --plink --out sizes/data/out_sub_\" + curr + \" >/dev/null 2>&1\")\n",
    "        command = \"./germline-1-5-3/bin/germline -input sizes/data/out_sub_\" + curr + \".ped sizes/data/out_sub_\" + curr + \".map -output sizes/germline/\" + curr + \".germ\"\n",
    "        times = run_time_mem(command)\n",
    "        \n",
    "        germline_sizes.append([int(curr[15:]),times])"
   ]
  },
  {
   "cell_type": "markdown",
   "id": "5eb0e2d1",
   "metadata": {},
   "source": [
    "### GERMLINE - Individual Analysis"
   ]
  },
  {
   "cell_type": "code",
   "execution_count": 24,
   "id": "8d90bf1f",
   "metadata": {
    "scrolled": false
   },
   "outputs": [
    {
     "data": {
      "image/png": "[encoded data removed]",
      "text/plain": [
       "<Figure size 720x432 with 1 Axes>"
      ]
     },
     "metadata": {
      "needs_background": "light"
     },
     "output_type": "display_data"
    }
   ],
   "source": [
    "germline_sizes_sorted = sorted(germline_sizes, key = lambda x : x[0])\n",
    "x2 = [item[0] for item in germline_sizes_sorted]\n",
    "y2 = [item[1][0] for item in germline_sizes_sorted]\n",
    "\n",
    "plt.figure(figsize=(10, 6))\n",
    "plt.plot(x2, y2, marker = 'o', color=\"orange\")\n",
    "\n",
    "plt.xlabel(\"Number of Samples\")\n",
    "plt.ylabel(\"Time (seconds)\")\n",
    "plt.title(\"Runtime of GERMLINE Command for IBD\")\n",
    "plt.xscale('log')\n",
    "plt.yscale('log')"
   ]
  },
  {
   "cell_type": "markdown",
   "id": "f5641ca7",
   "metadata": {},
   "source": [
    "### IBDseq - Stress Testing"
   ]
  },
  {
   "cell_type": "code",
   "execution_count": null,
   "id": "a54b088a",
   "metadata": {
    "scrolled": true
   },
   "outputs": [],
   "source": [
    "if \"ibdseq\" not in os.listdir(\"sizes\"):\n",
    "    os.mkdir(\"sizes/ibdseq\")\n",
    "\n",
    "ibdseq_sizes = []\n",
    "for file in os.listdir(\"sizes/total_singular\"):\n",
    "    if \"total_\" in file:\n",
    "        curr = file[:-4]\n",
    "        print(curr)\n",
    "        os.system(\"bcftools view sizes/data/\" + curr + \".bcf -O v -o sizes/data/\" + curr + \".vcf\")\n",
    "        \n",
    "        command = \"java -jar ibdseq.r1206.jar gt=sizes/data/\" + curr + \".vcf out=sizes/ibdseq/\" + curr + \".ibdseq\"\n",
    "        times = run_time_mem(command)\n",
    "        \n",
    "        ibdseq_sizes.append([int(curr[15:]),times])"
   ]
  },
  {
   "cell_type": "markdown",
   "id": "187f4a4d",
   "metadata": {},
   "source": [
    "### IBDseq - Individual Analysis"
   ]
  },
  {
   "cell_type": "code",
   "execution_count": 18,
   "id": "2e10acb4",
   "metadata": {},
   "outputs": [
    {
     "data": {
      "image/png": "[encoded data removed]",
      "text/plain": [
       "<Figure size 720x432 with 1 Axes>"
      ]
     },
     "metadata": {
      "needs_background": "light"
     },
     "output_type": "display_data"
    }
   ],
   "source": [
    "ibdseq_sizes_sorted = sorted(ibdseq_sizes, key = lambda x : x[0])\n",
    "x3 = [item[0] for item in ibdseq_sizes_sorted]\n",
    "y3 = [item[1][0] for item in ibdseq_sizes_sorted]\n",
    "\n",
    "plt.figure(figsize=(10, 6))\n",
    "plt.plot(x3, y3, marker = 'o', color=\"green\")\n",
    "\n",
    "plt.xlabel(\"Number of Samples\")\n",
    "plt.ylabel(\"Time (seconds)\")\n",
    "plt.title(\"Runtime of IBDseq Command for IBD\")\n",
    "plt.xscale('log')\n",
    "plt.yscale('log')"
   ]
  },
  {
   "cell_type": "markdown",
   "id": "162af6d1",
   "metadata": {},
   "source": [
    "### BEAGLE's fastIBD - Stress Testing"
   ]
  },
  {
   "cell_type": "code",
   "execution_count": null,
   "id": "0653b416",
   "metadata": {},
   "outputs": [],
   "source": [
    "if \"fastibd\" not in os.listdir(\"sizes\"):\n",
    "    os.mkdir(\"sizes/fastibd\")\n",
    "    \n",
    "fastibd_sizes = []\n",
    "for file in os.listdir(\"sizes/total_singular\"):\n",
    "    if \"total_\" in file:\n",
    "        curr = file[:-4]\n",
    "        print(curr)\n",
    "        os.system(\"cat sizes/data/\" + curr + \".vcf | java -jar vcf2beagle.jar ? sizes/data/\" + curr)\n",
    "        \n",
    "        command = \"java -jar beagle.jar unphased=sizes/data/\" + curr + \".bgl.gz markers=sizes/data/\" + curr + \".markers fastibd=true out=sizes/fastibd/\" + curr + \".fastibd missing=?\"\n",
    "        times = run_time_mem(command)\n",
    "        \n",
    "        fastibd_sizes.append([int(curr[15:]),times])"
   ]
  },
  {
   "cell_type": "markdown",
   "id": "eb13a7e0",
   "metadata": {},
   "source": [
    "### BEAGLE's fastIBD - Individual Analysis"
   ]
  },
  {
   "cell_type": "code",
   "execution_count": 23,
   "id": "b88a680b",
   "metadata": {},
   "outputs": [
    {
     "data": {
      "image/png": "[encoded data removed]",
      "text/plain": [
       "<Figure size 720x432 with 1 Axes>"
      ]
     },
     "metadata": {
      "needs_background": "light"
     },
     "output_type": "display_data"
    }
   ],
   "source": [
    "fastibd_sizes_sorted = sorted(fastibd_sizes, key = lambda x : x[0])\n",
    "x4 = [item[0] for item in fastibd_sizes_sorted]\n",
    "y4 = [item[1][0] for item in fastibd_sizes_sorted]\n",
    "\n",
    "plt.figure(figsize=(10, 6))\n",
    "plt.plot(x4, y4, marker = 'o', color=\"red\")\n",
    "\n",
    "plt.xlabel(\"Number of Samples\")\n",
    "plt.ylabel(\"Time (seconds)\")\n",
    "plt.title(\"Runtime of fastIBD Command for IBD\")\n",
    "plt.xscale('log')\n",
    "plt.yscale('log')"
   ]
  },
  {
   "cell_type": "markdown",
   "id": "1f57dd0d",
   "metadata": {},
   "source": [
    "### Subset Size Visualizations"
   ]
  },
  {
   "cell_type": "code",
   "execution_count": 28,
   "id": "141aa25e",
   "metadata": {},
   "outputs": [],
   "source": [
    "persistent_p2 = [plink_sizes, germline_sizes, ibdseq_sizes, fastibd_sizes]\n",
    "\n",
    "with open('persistent_p2.txt', 'w') as file:\n",
    "    file.write(str(persistent_p2))"
   ]
  },
  {
   "cell_type": "code",
   "execution_count": 15,
   "id": "a6e9ad06",
   "metadata": {},
   "outputs": [],
   "source": [
    "with open('persistent_p2.txt', 'r') as file:\n",
    "    persistent_p2 = eval(file.read())\n",
    "\n",
    "plink_sizes = persistent_p2[0]\n",
    "germline_sizes = persistent_p2[1]\n",
    "ibdseq_sizes = persistent_p2[2]\n",
    "fastibd_sizes = persistent_p2[3]"
   ]
  },
  {
   "cell_type": "code",
   "execution_count": 20,
   "id": "0b8d12e9",
   "metadata": {},
   "outputs": [
    {
     "data": {
      "image/png": "[encoded data removed]",
      "text/plain": [
       "<Figure size 720x432 with 1 Axes>"
      ]
     },
     "metadata": {
      "needs_background": "light"
     },
     "output_type": "display_data"
    }
   ],
   "source": [
    "x = [item[0] for item in sorted(persistent_p2[0], key = lambda x : x[0])]\n",
    "y1 = [item[1][0] for item in sorted(persistent_p2[0], key = lambda x : x[0])]\n",
    "y2 = [item[1][0] for item in sorted(persistent_p2[1], key = lambda x : x[0])]\n",
    "y3 = [item[1][0] for item in sorted(persistent_p2[2], key = lambda x : x[0])]\n",
    "y4 = [item[1][0] for item in sorted(persistent_p2[3], key = lambda x : x[0])]\n",
    "\n",
    "plt.figure(figsize=(10, 6))\n",
    "plt.plot(x, y1, marker = 'o', label=\"PLINK\")\n",
    "plt.plot(x, y2, marker = 'o', label=\"GERMLINE\", color=\"orange\")\n",
    "plt.plot(x, y3, marker = 'o', label=\"IBDseq\", color=\"green\")\n",
    "plt.plot(x, y4, marker = 'o', label=\"fastIBD\", color=\"red\")\n",
    "\n",
    "plt.xlabel(\"Number of Samples\")\n",
    "plt.ylabel(\"Time (seconds)\")\n",
    "plt.title('Runtime on Subset: PLINK vs. GERMLINE vs. IBDseq vs. BEAGLE\\'s fastIBD')\n",
    "plt.legend(title = \"Tool\", loc='center left', bbox_to_anchor=(1, 0.5))\n",
    "plt.xscale('log')\n",
    "plt.yscale('log')"
   ]
  }
 ],
 "metadata": {
  "kernelspec": {
   "display_name": "Python 3 (ipykernel)",
   "language": "python",
   "name": "python3"
  },
  "language_info": {
   "codemirror_mode": {
    "name": "ipython",
    "version": 3
   },
   "file_extension": ".py",
   "mimetype": "text/x-python",
   "name": "python",
   "nbconvert_exporter": "python",
   "pygments_lexer": "ipython3",
   "version": "3.9.5"
  }
 },
 "nbformat": 4,
 "nbformat_minor": 5
}
