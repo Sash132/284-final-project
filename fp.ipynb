{
 "cells": [
  {
   "cell_type": "markdown",
   "id": "33e51f2d",
   "metadata": {},
   "source": [
    "# CSE 284 Final Project - Comparison of Relative Finding Methods"
   ]
  },
  {
   "cell_type": "markdown",
   "id": "7b8d0bf3",
   "metadata": {},
   "source": [
    "### Imports"
   ]
  },
  {
   "cell_type": "code",
   "execution_count": 7,
   "id": "17d8f944",
   "metadata": {},
   "outputs": [],
   "source": [
    "import pandas as pd\n",
    "import vcf\n",
    "import os\n",
    "import subprocess\n",
    "import numpy as np\n",
    "import matplotlib.pyplot as plt"
   ]
  },
  {
   "cell_type": "markdown",
   "id": "6e3b9a8f",
   "metadata": {},
   "source": [
    "# Part 1 - Subpopulations\n",
    "\n",
    "### Sample List Generation\n",
    "Here, I generate sample lists by utilizing `igsr_samples.tsv` to gather a list of samples for each subpopulation and storing them in their own respective .txt file in `/samples`. Of all possible subpopulations, `MKK`, `GWF`, `GWW`, and `GWJ` were excluded due to their sample lists being empty when generated."
   ]
  },
  {
   "cell_type": "code",
   "execution_count": 16,
   "id": "a861b6f4",
   "metadata": {},
   "outputs": [],
   "source": [
    "chr_num = 19\n",
    "pruned = True\n",
    "if pruned:\n",
    "    vcf_file = \"../public/1000Genomes/1000G_chr\" + str(chr_num) + \"_pruned.vcf.gz\"\n",
    "else:\n",
    "    vcf_file = \"../public/1000Genomes/ALL.chr\" + str(chr_num) + \".phase3_shapeit2_mvncall_integrated_v5a.20130502.genotypes.vcf.gz\"\n",
    "    \n",
    "all_samples = vcf.Reader(filename=vcf_file).samples"
   ]
  },
  {
   "cell_type": "code",
   "execution_count": 10,
   "id": "e204857b",
   "metadata": {},
   "outputs": [
    {
     "name": "stdout",
     "output_type": "stream",
     "text": [
      "['GWD', 'LWK', 'KHV', 'GWJ', 'BEB', 'MXL', 'ESN', 'YRI', 'PEL', 'GWF', 'PUR', 'GIH', 'MSL', 'FIN', 'JPT', 'STU', 'CHB', 'IBS', 'GBR', 'CHS', 'PJL', 'ITU', 'CLM', 'MKK', 'ASW', 'CDX', 'TSI', 'CEU', 'GWW', 'ACB']\n",
      "samples_mkk.txt\n",
      "samples_gwf.txt\n",
      "samples_gww.txt\n",
      "samples_gwj.txt\n",
      "samples_singular_mkk.txt\n",
      "samples_singular_gwf.txt\n",
      "samples_singular_gww.txt\n",
      "samples_singular_gwj.txt\n"
     ]
    }
   ],
   "source": [
    "df = pd.read_csv(\"../public/1000Genomes/igsr_samples.tsv\", sep='\\t')\n",
    "pop_codes = list(set(df['Population code'].tolist()))\n",
    "pop_codes = [x for x in pop_codes if len(str(x)) == 3 and not pd.isna(x)]\n",
    "print(pop_codes)\n",
    "\n",
    "if \"samples\" not in os.listdir():\n",
    "    os.mkdir(\"samples\")\n",
    "if \"samples_singular\" not in os.listdir():\n",
    "    os.mkdir(\"samples_singular\")\n",
    "\n",
    "for pop in pop_codes:\n",
    "    subset = df[df['Population code'] == pop]\n",
    "    subset = subset[subset['Sample name'].isin(all_samples)]\n",
    "    subset['copy'] = subset['Sample name']\n",
    "    subset['Sample name'].to_csv('samples_singular/samples_singular_' + pop.lower() + '.txt', sep=' ', header=False, index=False)\n",
    "    subset[['Sample name', 'copy']].to_csv('samples/samples_' + pop.lower() + '.txt', sep=' ', header=False, index=False)\n",
    "\n",
    "samples_final = []\n",
    "for file in os.listdir(\"samples\"):\n",
    "    if os.path.getsize(\"samples/\" + file) == 0:\n",
    "        print(file)\n",
    "        os.remove(\"samples/\" + file)\n",
    "    elif \"ipynb\" not in file:\n",
    "        samples_final.append(file[-7:-4])\n",
    "        \n",
    "for file in os.listdir(\"samples_singular\"):\n",
    "    if os.path.getsize(\"samples_singular/\" + file) == 0:\n",
    "        print(file)\n",
    "        os.remove(\"samples_singular/\" + file)"
   ]
  },
  {
   "cell_type": "markdown",
   "id": "f002cd81",
   "metadata": {},
   "source": [
    "### Defining Measurements of Time and Memory Usage\n",
    "This function is written to take in a command and run it twice such that both the runtime and the peak memory usage can be measured. These are recorded and then returned by the function. There are three extra optional parameters. Setting `run_time` or `run_mem` to `False` will prevent the function from running that respective measurement. Setting the parameter `printout` to `True` will return the measurements to the user in the form of print statements."
   ]
  },
  {
   "cell_type": "code",
   "execution_count": 11,
   "id": "08e7e4f0",
   "metadata": {},
   "outputs": [],
   "source": [
    "def run_time_mem(command, run_time=True, run_mem=True, printout=False):\n",
    "    time = 0\n",
    "    mem = 0\n",
    "    \n",
    "    if(run_time):\n",
    "        proc = subprocess.run(\"bash -c 'time \" + command + \"'\", shell=True, capture_output=True, text=True)\n",
    "        time_output = proc.stderr.split()\n",
    "        time = float(time_output[-1][2:-1]) + float(time_output[-3][2:-1])\n",
    "        if(printout):\n",
    "            print(\"time: \" + str(time))\n",
    "\n",
    "    if(run_mem):\n",
    "        proc = subprocess.run(\"bash -c './memusg \" + command + \"'\", shell=True, capture_output=True, text=True)\n",
    "        mem_output = proc.stderr.split()\n",
    "        mem = mem_output[-2]\n",
    "        if(printout):\n",
    "            print(\"mem : \" + str(mem))\n",
    "    \n",
    "    return [round(time, 3), int(mem)]"
   ]
  },
  {
   "cell_type": "markdown",
   "id": "dd2ee2aa",
   "metadata": {},
   "source": [
    "### PLINK - Subpopulation Measurements"
   ]
  },
  {
   "cell_type": "code",
   "execution_count": 155,
   "id": "69750a17",
   "metadata": {},
   "outputs": [
    {
     "name": "stdout",
     "output_type": "stream",
     "text": [
      "PLINK v1.90b6.9 64-bit (4 Mar 2019)            www.cog-genomics.org/plink/1.9/\n",
      "(C) 2005-2019 Shaun Purcell, Christopher Chang   GNU General Public License v3\n",
      "Logging to data/chr_plink.log.\n",
      "Options in effect:\n",
      "  --make-bed\n",
      "  --out data/chr_plink\n",
      "  --vcf ../public/1000Genomes/1000G_chr19_pruned.vcf.gz\n",
      "\n",
      "385412 MB RAM detected; reserving 192706 MB for main workspace.\n",
      "--vcf: data/chr_plink-temporary.bed + data/chr_plink-temporary.bim +\n",
      "data/chr_plink-temporary.fam written.\n",
      "17784 variants loaded from .bim file.\n",
      "2504 people (0 males, 0 females, 2504 ambiguous) loaded from .fam.\n",
      "Ambiguous sex IDs written to data/chr_plink.nosex .\n",
      "Using 1 thread (no multithreaded calculations invoked).\n",
      "Before main variant filters, 2504 founders and 0 nonfounders present.\n",
      "Calculating allele frequencies... 10111213141516171819202122232425262728293031323334353637383940414243444546474849505152535455565758596061626364656667686970717273747576777879808182838485868788899091929394959697989 done.\n",
      "Total genotyping rate is 0.999899.\n",
      "17784 variants and 2504 people pass filters and QC.\n",
      "Note: No phenotypes present.\n",
      "--make-bed to data/chr_plink.bed + data/chr_plink.bim + data/chr_plink.fam ...\n",
      "101112131415161718192021222324252627282930313233343536373839404142434445464748495051525354555657585960616263646566676869707172737475767778798081828384858687888990919293949596979899done.\n"
     ]
    }
   ],
   "source": [
    "if \"data\" not in os.listdir():\n",
    "    os.mkdir(\"data\")\n",
    "\n",
    "if pruned:\n",
    "    os.system(\"plink --vcf ../public/1000Genomes/1000G_chr\" + str(chr_num) + \"_pruned.vcf.gz --make-bed --out data/chr_plink\")\n",
    "else:\n",
    "    os.system(\"plink --vcf ../public/1000Genomes/ALL.chr\" + str(chr_num) + \".phase3_shapeit2_mvncall_integrated_v5a.20130502.genotypes.vcf.gz --make-bed --out data/chr_plink\")"
   ]
  },
  {
   "cell_type": "code",
   "execution_count": 179,
   "id": "63585772",
   "metadata": {
    "scrolled": true
   },
   "outputs": [
    {
     "name": "stdout",
     "output_type": "stream",
     "text": [
      "khv\n",
      "time: 0.081\n",
      "mem : 197399132\n",
      "gbr\n",
      "time: 0.069\n",
      "mem : 197399132\n",
      "acb\n",
      "time: 0.06\n",
      "mem : 197399132\n",
      "ibs\n",
      "time: 0.08700000000000001\n",
      "mem : 197398104\n",
      "chs\n",
      "time: 0.067\n",
      "mem : 197399132\n",
      "ceu\n",
      "time: 0.08600000000000001\n",
      "mem : 197398104\n",
      "asw\n",
      "time: 0.025\n",
      "mem : 197399132\n",
      "msl\n",
      "time: 0.051000000000000004\n",
      "mem : 197399132\n",
      "pel\n",
      "time: 0.063\n",
      "mem : 197399132\n",
      "lwk\n",
      "time: 0.089\n",
      "mem : 197399132\n",
      "esn\n",
      "time: 0.093\n",
      "mem : 197399132\n",
      "clm\n",
      "time: 0.06999999999999999\n",
      "mem : 197399132\n",
      "pur\n",
      "time: 0.07\n",
      "mem : 197399132\n",
      "stu\n",
      "time: 0.068\n",
      "mem : 197399132\n",
      "yri\n",
      "time: 0.081\n",
      "mem : 197399132\n",
      "fin\n",
      "time: 0.085\n",
      "mem : 197399132\n",
      "beb\n",
      "time: 0.047\n",
      "mem : 197399132\n",
      "cdx\n",
      "time: 0.066\n",
      "mem : 197399132\n",
      "chb\n",
      "time: 0.069\n",
      "mem : 197399132\n",
      "gih\n",
      "time: 0.093\n",
      "mem : 197399132\n",
      "itu\n",
      "time: 0.079\n",
      "mem : 197399132\n",
      "gwd\n",
      "time: 0.068\n",
      "mem : 197399132\n",
      "tsi\n",
      "time: 0.095\n",
      "mem : 197399132\n",
      "mxl\n",
      "time: 0.056\n",
      "mem : 197399132\n",
      "jpt\n",
      "time: 0.093\n",
      "mem : 197399132\n",
      "pjl\n",
      "time: 0.077\n",
      "mem : 197399132\n",
      "[[0.081, 197399132], [0.069, 197399132], [0.06, 197399132], [0.087, 197398104], [0.067, 197399132], [0.086, 197398104], [0.025, 197399132], [0.051, 197399132], [0.063, 197399132], [0.089, 197399132], [0.093, 197399132], [0.07, 197399132], [0.07, 197399132], [0.068, 197399132], [0.081, 197399132], [0.085, 197399132], [0.047, 197399132], [0.066, 197399132], [0.069, 197399132], [0.093, 197399132], [0.079, 197399132], [0.068, 197399132], [0.095, 197399132], [0.056, 197399132], [0.093, 197399132], [0.077, 197399132]]\n"
     ]
    }
   ],
   "source": [
    "if \"plink\" not in os.listdir():\n",
    "    os.mkdir(\"plink\")\n",
    "\n",
    "plink_vals = []\n",
    "for file in os.listdir(\"samples\"):\n",
    "    if(file[-4:] == \".txt\"):\n",
    "        sample = file[-7:-4]\n",
    "        print(sample)\n",
    "        command = \"plink --bfile data/chr_plink --keep samples/\" + file + \" --genome --out plink/\" + sample + \".ibd\"\n",
    "        plink_vals.append(run_time_mem(command, printout=True))\n",
    "\n",
    "print(plink_vals)"
   ]
  },
  {
   "cell_type": "markdown",
   "id": "17e76236",
   "metadata": {},
   "source": [
    "### GERMLINE - Subpopulation Measurements"
   ]
  },
  {
   "cell_type": "code",
   "execution_count": 181,
   "id": "ef8da753",
   "metadata": {
    "scrolled": false
   },
   "outputs": [
    {
     "name": "stdout",
     "output_type": "stream",
     "text": [
      "ceu\n",
      "chs\n",
      "ibs\n",
      "gbr\n",
      "acb\n",
      "khv\n",
      "lwk\n",
      "pel\n",
      "esn\n",
      "msl\n",
      "asw\n",
      "fin\n",
      "cdx\n",
      "beb\n",
      "stu\n",
      "pur\n",
      "yri\n",
      "clm\n",
      "pjl\n",
      "jpt\n",
      "gwd\n",
      "tsi\n",
      "mxl\n",
      "itu\n",
      "gih\n",
      "chb\n",
      "[[0.292, 38496], [0.285, 38496], [0.316, 38628], [0.225, 38760], [0.222, 38892], [0.272, 38496], [0.248, 38892], [0.223, 38628], [0.23, 38892], [0.226, 37440], [0.172, 37440], [0.263, 39024], [0.242, 38892], [0.219, 38628], [0.287, 38496], [0.261, 38628], [0.259, 38628], [0.235, 38892], [0.257, 39024], [0.268, 39024], [0.298, 38496], [0.261, 38760], [0.165, 37440], [0.252, 38892], [0.263, 39024], [0.241, 39024]]\n"
     ]
    }
   ],
   "source": [
    "if pruned:\n",
    "    os.system(\"bcftools view ../public/1000Genomes/1000G_chr\" + str(chr_num) + \"_pruned.vcf.gz -O b -o data/chr_plink.bcf\")\n",
    "\n",
    "else:\n",
    "    os.system(\"bcftools view ../public/1000Genomes/ALL.chr\" + str(chr_num) + \".phase3_shapeit2_mvncall_integrated_v5a.20130502.genotypes.vcf.gz -O b -o chr_plink.bcf\")\n",
    "\n",
    "if \"germline\" not in os.listdir():\n",
    "    os.mkdir(\"germline\")\n",
    "    \n",
    "germline_vals = []\n",
    "for file in os.listdir(\"samples_singular\"):\n",
    "    if(file[-4:] == \".txt\"):\n",
    "        sample = file[-7:-4]\n",
    "        print(sample)\n",
    "        os.system(\"bcftools view -S samples_singular/\" + file + \" data/chr_plink.bcf -O b -o data/subset_\" + sample + \".bcf\")\n",
    "        os.system(\"vcftools --bcf data/subset_\" + sample + \".bcf --plink --out data/out_sub_\" + sample + \" >/dev/null 2>&1\")\n",
    "        command = \"./germline-1-5-3/bin/germline -input data/out_sub_\" + sample + \".ped data/out_sub_\" + sample + \".map -output germline/\" + sample + \".germ\"\n",
    "        germline_vals.append(run_time_mem(command))\n",
    "\n",
    "print(germline_vals)"
   ]
  },
  {
   "cell_type": "markdown",
   "id": "743af1d9",
   "metadata": {},
   "source": [
    "### IBDseq - Subpopulation Measurements"
   ]
  },
  {
   "cell_type": "code",
   "execution_count": null,
   "id": "dedfec5f",
   "metadata": {
    "scrolled": true
   },
   "outputs": [],
   "source": [
    "if \"ibdseq\" not in os.listdir():\n",
    "    os.mkdir(\"ibdseq\")\n",
    "\n",
    "ibdseq_vals = []\n",
    "for file in os.listdir(\"samples\"):\n",
    "    if(file[-4:] == \".txt\"):\n",
    "        sample = file[-7:-4]\n",
    "        print(sample)\n",
    "        os.system(\"bcftools view data/subset_\" + sample + \".bcf -O v -o data/subset_\" + sample + \".vcf\")\n",
    "        \n",
    "        #-Xmx192706m\n",
    "        command = \"java -jar ibdseq.r1206.jar gt=data/subset_\" + sample + \".vcf out=ibdseq/\" + sample + \".ibdseq\"\n",
    "        ibdseq_vals.append(run_time_mem(command))\n",
    "\n",
    "print(ibdseq_vals)"
   ]
  },
  {
   "cell_type": "markdown",
   "id": "fbe04130",
   "metadata": {},
   "source": [
    "### BEAGLE's fastIBD - Subpopulation Measurements"
   ]
  },
  {
   "cell_type": "code",
   "execution_count": null,
   "id": "c7d45143",
   "metadata": {
    "scrolled": true
   },
   "outputs": [],
   "source": [
    "if \"fastibd\" not in os.listdir():\n",
    "    os.mkdir(\"fastibd\")\n",
    "\n",
    "fastibd_vals = []\n",
    "for file in os.listdir(\"samples\"):\n",
    "    if(file[-4:] == \".txt\"):\n",
    "        sample = file[-7:-4]\n",
    "        print(sample)\n",
    "        os.system(\"cat data/subset_\" + sample + \".vcf | java -jar vcf2beagle.jar ? data/subset_\" + sample)\n",
    "        \n",
    "        command = \"java -jar beagle.jar unphased=data/subset_\" + sample + \".bgl.gz markers=data/subset_\" + sample + \".markers fastibd=true out=fastibd/\" + sample + \".fastibd missing=?\"\n",
    "        fastibd_vals.append(run_time_mem(command))\n",
    "\n",
    "print(fastibd_vals)"
   ]
  },
  {
   "cell_type": "markdown",
   "id": "8b107c34",
   "metadata": {},
   "source": [
    "### Subpopulation Visualizations"
   ]
  },
  {
   "cell_type": "code",
   "execution_count": 184,
   "id": "a432edd9",
   "metadata": {},
   "outputs": [],
   "source": [
    "persistent = [plink_vals, germline_vals, ibdseq_vals, fastibd_vals]\n",
    "\n",
    "with open('persistent.txt', 'w') as file:\n",
    "    file.write(str(persistent))"
   ]
  },
  {
   "cell_type": "code",
   "execution_count": 13,
   "id": "b1f99ce0",
   "metadata": {},
   "outputs": [],
   "source": [
    "with open('persistent.txt', 'r') as file:\n",
    "    persistent = eval(file.read())"
   ]
  },
  {
   "cell_type": "code",
   "execution_count": 15,
   "id": "f9ba1ab5",
   "metadata": {},
   "outputs": [
    {
     "data": {
      "text/plain": [
       "<matplotlib.legend.Legend at 0x7fe078b0dfd0>"
      ]
     },
     "execution_count": 15,
     "metadata": {},
     "output_type": "execute_result"
    },
    {
     "data": {
      "image/png": "[encoded data removed]",
      "text/plain": [
       "<Figure size 720x432 with 1 Axes>"
      ]
     },
     "metadata": {
      "needs_background": "light"
     },
     "output_type": "display_data"
    }
   ],
   "source": [
    "x = np.arange(len(persistent[0]))\n",
    "y1 = [item[0] for item in persistent[0]]\n",
    "y2 = [item[0] for item in persistent[1]]\n",
    "y3 = [item[0] for item in persistent[2]]\n",
    "y4 = [item[0] for item in persistent[3]]\n",
    "\n",
    "plt.figure(figsize=(10, 6))\n",
    "bar_width = 0.15\n",
    "\n",
    "plt.bar(x, y1, width=bar_width, label='PLINK', color='darkblue')\n",
    "plt.bar(x + bar_width, y2, width=bar_width, label='GERMLINE', color='blue')\n",
    "plt.bar(x + bar_width * 2, y3, width=bar_width, label='IBDseq', color='lightblue')\n",
    "plt.bar(x + bar_width * 3, y4, width=bar_width, label='fastIBD', color='black')\n",
    "\n",
    "plt.xlabel('Sample')\n",
    "plt.ylabel('Time (seconds)')\n",
    "plt.title('Runtime: PLINK vs. GERMLINE vs. IBDseq vs. BEAGLE\\'s fastIBD')\n",
    "labels = samples_final\n",
    "plt.xticks(x + bar_width * 2, labels)\n",
    "plt.yscale('log')\n",
    "plt.legend(title = \"Tool\", loc='center left', bbox_to_anchor=(1, 0.5))"
   ]
  },
  {
   "cell_type": "markdown",
   "id": "cb420bd9",
   "metadata": {},
   "source": [
    "# Part 2 - Stress Testing / Time Complexity\n",
    "\n",
    "### Subset File Generation\n",
    "Here, I generate the largest possible set of samples and from it, I create many subsets (in increments of 100) and store them in .txt files in `/sizes`."
   ]
  },
  {
   "cell_type": "code",
   "execution_count": 131,
   "id": "5c4fb477",
   "metadata": {},
   "outputs": [],
   "source": [
    "if \"sizes\" not in os.listdir():\n",
    "    os.mkdir(\"sizes\")\n",
    "    \n",
    "with open(\"sizes/total.txt\", 'w') as out:\n",
    "    for file in os.listdir(\"samples\"):\n",
    "        if(file[-4:] == \".txt\"):\n",
    "            with open(\"samples/\" + file, 'r') as file:\n",
    "                out.writelines(file.readlines())"
   ]
  },
  {
   "cell_type": "code",
   "execution_count": 132,
   "id": "d6037ebb",
   "metadata": {},
   "outputs": [],
   "source": [
    "with open(\"sizes/total.txt\", 'r') as file:\n",
    "    all_lines = file.readlines()\n",
    "    num_lines = len(all_lines)\n",
    "\n",
    "sizes = range(0, num_lines, 100)\n",
    "sizes = sizes[1:]\n",
    "for size in sizes:\n",
    "    with open(\"sizes/total_\" + str(size) + \".txt\", 'w') as file:\n",
    "        file.writelines(all_lines[:size])"
   ]
  },
  {
   "cell_type": "markdown",
   "id": "994cc832",
   "metadata": {},
   "source": [
    "### PLINK - Stress Testing"
   ]
  },
  {
   "cell_type": "code",
   "execution_count": 191,
   "id": "9800700b",
   "metadata": {},
   "outputs": [
    {
     "name": "stdout",
     "output_type": "stream",
     "text": [
      "total_500\n",
      "total_900\n",
      "total_1100\n",
      "total_400\n",
      "total_800\n",
      "total_1000\n",
      "total_2400\n",
      "total_700\n",
      "total_1300\n",
      "total_2500\n",
      "total_600\n",
      "total_1200\n",
      "total_2200\n",
      "total_100\n",
      "total_1900\n",
      "total_1500\n",
      "total_2300\n",
      "total_1800\n",
      "total_1400\n",
      "total_300\n",
      "total_2000\n",
      "total_1700\n",
      "total_200\n",
      "total_2100\n",
      "total_1600\n"
     ]
    }
   ],
   "source": [
    "if \"data\" not in os.listdir(\"sizes\"):\n",
    "    os.mkdir(\"sizes/data\")\n",
    "\n",
    "plink_sizes = []\n",
    "for file in os.listdir(\"sizes\"):\n",
    "    if \"total_\" in file:\n",
    "        curr = file[:-4]\n",
    "        print(curr)\n",
    "        command = \"plink --bfile data/chr_plink --keep sizes/\" + file + \" --genome --out sizes/data/\" + curr + \".ibd\"\n",
    "        times = run_time_mem(command, run_mem=False)\n",
    "        \n",
    "        plink_sizes.append([int(curr[6:]),times[0]])"
   ]
  },
  {
   "cell_type": "markdown",
   "id": "d6e5a13d",
   "metadata": {},
   "source": [
    "### PLINK - Time Complexity Analysis"
   ]
  },
  {
   "cell_type": "code",
   "execution_count": 192,
   "id": "14065d97",
   "metadata": {},
   "outputs": [
    {
     "data": {
      "image/png": "[encoded data removed]",
      "text/plain": [
       "<Figure size 720x720 with 1 Axes>"
      ]
     },
     "metadata": {
      "needs_background": "light"
     },
     "output_type": "display_data"
    }
   ],
   "source": [
    "plink_sizes_sorted = sorted(plink_sizes, key = lambda x : x[0])\n",
    "x = [item[0] for item in plink_sizes_sorted]\n",
    "y = [item[1] for item in plink_sizes_sorted]\n",
    "plt.plot(x, y, marker = 'o')\n",
    "\n",
    "plt.xlabel(\"Number of Samples\")\n",
    "plt.ylabel(\"Time (seconds)\")\n",
    "plt.title(\"Runtime of PLINK Command for IBD\")\n",
    "plt.xscale('log')\n",
    "plt.yscale('log')"
   ]
  },
  {
   "cell_type": "code",
   "execution_count": null,
   "id": "9354ef01",
   "metadata": {},
   "outputs": [],
   "source": []
  }
 ],
 "metadata": {
  "kernelspec": {
   "display_name": "Python 3 (ipykernel)",
   "language": "python",
   "name": "python3"
  },
  "language_info": {
   "codemirror_mode": {
    "name": "ipython",
    "version": 3
   },
   "file_extension": ".py",
   "mimetype": "text/x-python",
   "name": "python",
   "nbconvert_exporter": "python",
   "pygments_lexer": "ipython3",
   "version": "3.9.5"
  }
 },
 "nbformat": 4,
 "nbformat_minor": 5
}
